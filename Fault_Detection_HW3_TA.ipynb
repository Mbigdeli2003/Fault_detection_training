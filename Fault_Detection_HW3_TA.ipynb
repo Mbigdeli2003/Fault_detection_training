{
  "nbformat": 4,
  "nbformat_minor": 0,
  "metadata": {
    "colab": {
      "provenance": [],
      "authorship_tag": "ABX9TyO30jUBN2NI588bRRMf1UL1",
      "include_colab_link": true
    },
    "kernelspec": {
      "name": "python3",
      "display_name": "Python 3"
    },
    "language_info": {
      "name": "python"
    }
  },
  "cells": [
    {
      "cell_type": "markdown",
      "metadata": {
        "id": "view-in-github",
        "colab_type": "text"
      },
      "source": [
        "<a href=\"https://colab.research.google.com/github/Mbigdeli2003/Fault_detection_training/blob/main/Fault_Detection_HW3_TA.ipynb\" target=\"_parent\"><img src=\"https://colab.research.google.com/assets/colab-badge.svg\" alt=\"Open In Colab\"/></a>"
      ]
    },
    {
      "cell_type": "code",
      "execution_count": null,
      "metadata": {
        "id": "T6I-2D4KU0SX"
      },
      "outputs": [],
      "source": [
        "# Import libraries\n",
        "import numpy as np\n",
        "import pandas as pd\n",
        "from sklearn.model_selection import train_test_split\n",
        "from sklearn.svm import SVC\n",
        "from sklearn.neighbors import KNeighborsClassifier\n",
        "from sklearn.ensemble import RandomForestClassifier, BaggingClassifier, GradientBoostingClassifier\n",
        "from sklearn.semi_supervised import SelfTrainingClassifier\n",
        "from sklearn.metrics import accuracy_score, f1_score, confusion_matrix, classification_report\n",
        "import matplotlib.pyplot as plt\n",
        "import seaborn as sns\n",
        "\n",
        "# Load and split data\n",
        "data = pd.read_csv('TEP_data.csv')  # Replace with TEP dataset\n",
        "X, y = data.drop('fault', axis=1), data['fault']\n",
        "X_train, X_test, y_train, y_test = train_test_split(X, y, test_size=0.2, random_state=42)\n",
        "\n",
        "# Models for SVM and KNN\n",
        "models = {\n",
        "    'SVM': SVC(kernel='rbf', C=1.0),\n",
        "    'KNN': KNeighborsClassifier(n_neighbors=5)\n",
        "}\n",
        "\n",
        "# Train, evaluate, and compare SVM and KNN\n",
        "results = {}\n",
        "for name, model in models.items():\n",
        "    model.fit(X_train, y_train)\n",
        "    y_pred = model.predict(X_test)\n",
        "    results[name] = {\n",
        "        'Accuracy': accuracy_score(y_test, y_pred),\n",
        "        'F1-Score': f1_score(y_test, y_pred, average='weighted'),\n",
        "        'Confusion Matrix': confusion_matrix(y_test, y_pred)\n",
        "    }\n",
        "\n",
        "# Semi-supervised SVM\n",
        "semi_supervised_model = SelfTrainingClassifier(SVC(kernel='rbf', C=1.0), max_iter=10)\n",
        "semi_supervised_model.fit(X_train, y_train)\n",
        "y_pred_semi = semi_supervised_model.predict(X_test)\n",
        "\n",
        "# Random Forest and Ensemble Models\n",
        "ensemble_models = {\n",
        "    'Random Forest': RandomForestClassifier(n_estimators=100, random_state=42),\n",
        "    'Bagging': BaggingClassifier(base_estimator=SVC(kernel='linear'), n_estimators=10, random_state=42),\n",
        "    'Boosting': GradientBoostingClassifier(n_estimators=50, learning_rate=0.1, random_state=42)\n",
        "}\n",
        "for name, model in ensemble_models.items():\n",
        "    model.fit(X_train, y_train)\n",
        "    y_pred = model.predict(X_test)\n",
        "    results[name] = {'Accuracy': accuracy_score(y_test, y_pred)}\n",
        "\n",
        "# Plot confusion matrices\n",
        "for name, metrics in results.items():\n",
        "    sns.heatmap(metrics['Confusion Matrix'], annot=True, fmt='d', cmap='Blues')\n",
        "    plt.title(f'{name} Confusion Matrix')\n",
        "    plt.show()\n",
        "\n",
        "# Compare model accuracy\n",
        "plt.bar(results.keys(), [metrics['Accuracy'] for metrics in results.values()])\n",
        "plt.ylabel('Accuracy')\n",
        "plt.title('Model Accuracy Comparison')\n",
        "plt.show()\n"
      ]
    }
  ]
}